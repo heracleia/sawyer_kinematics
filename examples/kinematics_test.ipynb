{
 "cells": [
  {
   "cell_type": "code",
   "execution_count": 8,
   "metadata": {},
   "outputs": [],
   "source": [
    "from sawyer_kinematics.sawyer_kinematics import Sawyer\n",
    "import sympy as sp\n",
    "import numpy as np"
   ]
  },
  {
   "cell_type": "code",
   "execution_count": 9,
   "metadata": {},
   "outputs": [],
   "source": [
    "robot = Sawyer()\n",
    "Te = sp.lambdify(robot.q, robot.get_T_f()[-1])"
   ]
  },
  {
   "cell_type": "code",
   "execution_count": 10,
   "metadata": {},
   "outputs": [],
   "source": [
    "q = [[-1.359712890625, -1.52001953125, -0.1502236328125, 1.3897900390625, -1.871439453125, 0.0975888671875, 3.52304296875],\n",
    "     [-1.6715830078125, 0.2205947265625, -0.1041943359375, 1.156958984375, -0.3172080078125, -1.426392578125, 3.3365185546875]]"
   ]
  },
  {
   "cell_type": "code",
   "execution_count": 11,
   "metadata": {},
   "outputs": [],
   "source": [
    "ht = np.array([Te(*robot.JointOffset(qi)) for qi in q])"
   ]
  },
  {
   "cell_type": "code",
   "execution_count": 12,
   "metadata": {},
   "outputs": [
    {
     "data": {
      "text/plain": [
       "array([[[-0.09267411,  0.99519135, -0.03171263,  0.01982746],\n",
       "        [-0.15560797, -0.04593416, -0.98675033, -0.65892577],\n",
       "        [-0.98346208, -0.08651147,  0.15911661,  0.66845389],\n",
       "        [ 0.        ,  0.        ,  0.        ,  1.        ]],\n",
       "\n",
       "       [[ 0.96299579,  0.13008995,  0.23604178,  0.10524619],\n",
       "        [ 0.23298718,  0.03844097, -0.97171975, -0.69075475],\n",
       "        [-0.13548465,  0.99075673,  0.00670921, -0.16187342],\n",
       "        [ 0.        ,  0.        ,  0.        ,  1.        ]]])"
      ]
     },
     "execution_count": 12,
     "metadata": {},
     "output_type": "execute_result"
    }
   ],
   "source": [
    "ht"
   ]
  }
 ],
 "metadata": {
  "kernelspec": {
   "display_name": "Python 2",
   "language": "python",
   "name": "python2"
  },
  "language_info": {
   "codemirror_mode": {
    "name": "ipython",
    "version": 2
   },
   "file_extension": ".py",
   "mimetype": "text/x-python",
   "name": "python",
   "nbconvert_exporter": "python",
   "pygments_lexer": "ipython2",
   "version": "2.7.12"
  }
 },
 "nbformat": 4,
 "nbformat_minor": 2
}
